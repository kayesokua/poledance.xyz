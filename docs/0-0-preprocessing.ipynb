{
 "cells": [
  {
   "cell_type": "markdown",
   "id": "0476b159-9ac2-45be-874a-4156b7c2f2ff",
   "metadata": {},
   "source": [
    "# 0.0 Preprocessing Steps\n",
    "\n",
    "## Data Augmentation for Pose Diversity\n",
    "* Problem: Only one good photo available for each pose.\n",
    "* Solution: Increase data variety by flipping each image horizontally and vertically, creating new orientations of the same pose."
   ]
  },
  {
   "cell_type": "code",
   "execution_count": 30,
   "id": "65142b9d-ec0c-4bd6-b656-6fa57cf9e89d",
   "metadata": {},
   "outputs": [],
   "source": [
    "import os\n",
    "from PIL import Image\n",
    "from shutil import copyfile\n",
    "\n",
    "def is_image_file(filename):\n",
    "    return filename.lower().endswith(('.png', '.jpg', '.jpeg', '.bmp', '.gif', '.tiff'))\n",
    "\n",
    "def flip_image_horizontally(image_path, save_path):\n",
    "    img = Image.open(image_path)\n",
    "    flipped_img = img.transpose(Image.FLIP_LEFT_RIGHT)\n",
    "    flipped_img.save(save_path)\n",
    "\n",
    "def flip_image_vertically(image_path, save_path):\n",
    "    with Image.open(image_path) as img:\n",
    "        flipped_img = img.transpose(Image.FLIP_TOP_BOTTOM)\n",
    "        flipped_img.save(save_path)\n",
    "\n",
    "def diversity_datasets(root_dir, inv=True):\n",
    "    error = 0\n",
    "    copy_count = 0\n",
    "    flipped_horizontal_count = 0\n",
    "    flipped_vertical_count = 0\n",
    "\n",
    "    lft_images_dir = root_dir + \"lft/\"\n",
    "    rgt_images_dir = root_dir + \"rgt/\"\n",
    "\n",
    "    for dir_path, suffix in [(lft_images_dir, '-lft.png'), (rgt_images_dir, '-rgt.png')]:\n",
    "        for filename in os.listdir(dir_path):\n",
    "            if is_image_file(filename):\n",
    "                base_filename = os.path.splitext(filename)[0]\n",
    "                source_path = os.path.join(dir_path, filename)\n",
    "                save_path = os.path.join(root_dir, base_filename + suffix)\n",
    "                copyfile(source_path, save_path)\n",
    "                copy_count += 1\n",
    "    print(f\"Successfully copied {copy_count} images\")\n",
    "\n",
    "    for filename in os.listdir(root_dir):\n",
    "        if is_image_file(filename) and filename.lower().endswith('-lft.png'):\n",
    "            base_filename = filename.replace('-lft.png', '')\n",
    "            flipped_path = os.path.join(root_dir, base_filename + '-rgt.png')\n",
    "            source_path = os.path.join(root_dir, filename)\n",
    "            flip_image_horizontally(source_path, flipped_path)\n",
    "            flipped_horizontal_count += 1 \n",
    "        elif is_image_file(filename) and filename.lower().endswith('-rgt.png'):\n",
    "            base_filename = filename.replace('-rgt.png', '')\n",
    "            flipped_path = os.path.join(root_dir, base_filename + '-lft.png')\n",
    "            source_path = os.path.join(root_dir, filename)\n",
    "            flip_image_horizontally(source_path, flipped_path)\n",
    "            flipped_horizontal_count += 1 \n",
    "        else:\n",
    "            error += 1\n",
    "            \n",
    "    print(f\"Successfully flipped horizontally {flipped_horizontal_count} images\")\n",
    "\n",
    "    if inv:\n",
    "        for filename in os.listdir(root_dir):\n",
    "            if is_image_file(filename):\n",
    "                source_path = os.path.join(root_dir, filename)\n",
    "                save_path = os.path.join(root_dir, os.path.splitext(filename)[0] + '-inv.png')\n",
    "                flip_image_vertically(source_path, save_path)\n",
    "                flipped_vertical_count += 1\n",
    "            print(f\"Successfully flipped vertically {flipped_vertical_count} images\")\n",
    "    else:\n",
    "        print(f\"Vertical flipping skipped\")"
   ]
  },
  {
   "cell_type": "code",
   "execution_count": 22,
   "id": "43a216cf-2fee-47a2-8d2f-5e840b2bfa7d",
   "metadata": {},
   "outputs": [
    {
     "name": "stdout",
     "output_type": "stream",
     "text": [
      "Successfully copied 39 images\n",
      "Successfully flipped horizontally 39 images\n",
      "Successfully flipped vertically 78 images\n"
     ]
    }
   ],
   "source": [
    "root_dir = 'data/external/positions/grip/'\n",
    "results = diversity_datasets(root_dir, True)"
   ]
  },
  {
   "cell_type": "code",
   "execution_count": 31,
   "id": "9415e6cf-6691-4050-84e2-d615dc7579c1",
   "metadata": {},
   "outputs": [
    {
     "name": "stdout",
     "output_type": "stream",
     "text": [
      "Successfully copied 106 images\n",
      "Successfully flipped horizontally 106 images\n",
      "Vertical flipping skipped\n"
     ]
    }
   ],
   "source": [
    "root_dir = 'data/external/tricks/beginner/'\n",
    "results = diversity_datasets(root_dir, False)"
   ]
  },
  {
   "cell_type": "code",
   "execution_count": 32,
   "id": "a1a74889-77e0-4d28-aa66-710088de0933",
   "metadata": {},
   "outputs": [
    {
     "name": "stdout",
     "output_type": "stream",
     "text": [
      "Successfully copied 89 images\n",
      "Successfully flipped horizontally 89 images\n",
      "Vertical flipping skipped\n"
     ]
    }
   ],
   "source": [
    "root_dir = 'data/external/tricks/intermediate/'\n",
    "results = diversity_datasets(root_dir, False)"
   ]
  },
  {
   "cell_type": "code",
   "execution_count": 33,
   "id": "d0df71ad-1b00-47de-bfb5-2212e002c455",
   "metadata": {},
   "outputs": [
    {
     "name": "stdout",
     "output_type": "stream",
     "text": [
      "Successfully copied 83 images\n",
      "Successfully flipped horizontally 83 images\n",
      "Vertical flipping skipped\n"
     ]
    }
   ],
   "source": [
    "root_dir = 'data/external/tricks/advanced/'\n",
    "results = diversity_datasets(root_dir, False)"
   ]
  }
 ],
 "metadata": {
  "kernelspec": {
   "display_name": "Python 3 (ipykernel)",
   "language": "python",
   "name": "python3"
  },
  "language_info": {
   "codemirror_mode": {
    "name": "ipython",
    "version": 3
   },
   "file_extension": ".py",
   "mimetype": "text/x-python",
   "name": "python",
   "nbconvert_exporter": "python",
   "pygments_lexer": "ipython3",
   "version": "3.11.6"
  }
 },
 "nbformat": 4,
 "nbformat_minor": 5
}
