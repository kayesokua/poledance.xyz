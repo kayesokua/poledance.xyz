{
 "cells": [
  {
   "cell_type": "markdown",
   "id": "0cdf78a9-e4e3-45f9-baf6-f998e13f4290",
   "metadata": {},
   "source": [
    "# 1.0 Data Processing\n",
    "\n",
    "In this notebook, we will discuss the key data processing steps."
   ]
  },
  {
   "cell_type": "markdown",
   "id": "f05d6e6a-6b33-4876-b40c-d3fcae6d7e71",
   "metadata": {},
   "source": [
    "## 1.1 Video to Image Decomposition\n",
    "\n",
    "### Implementation"
   ]
  },
  {
   "cell_type": "code",
   "execution_count": 6,
   "id": "8e101ea0-e00e-43f7-87a3-6b90977e68ff",
   "metadata": {},
   "outputs": [],
   "source": [
    "from helpers.video_utils import *\n",
    "\n",
    "def decompose_video_to_frames(input_video_path, output_dir):\n",
    "    if not is_video_openable(input_video_path):\n",
    "        return False\n",
    "        \n",
    "    fps, frame_interval, _ = get_video_properties(input_video_path)\n",
    "    image_count = process_video_images(input_video_path, output_dir, frame_interval, fps)\n",
    "    print(f\"Processed {image_count} frames from the video.\")\n",
    "    return True"
   ]
  },
  {
   "cell_type": "markdown",
   "id": "9a2d0a45-6d32-4a1a-968f-9be787ba605c",
   "metadata": {},
   "source": [
    "## 1.2 Pose Landmark Extraction\n",
    "\n",
    "### Implementation"
   ]
  },
  {
   "cell_type": "code",
   "execution_count": 7,
   "id": "e984fcd5-2ed6-46b6-bcfe-18ac58398cb4",
   "metadata": {},
   "outputs": [],
   "source": [
    "import os\n",
    "import cv2\n",
    "import pandas as pd\n",
    "\n",
    "import mediapipe as mp\n",
    "from mediapipe.tasks import python\n",
    "from mediapipe.tasks.python import vision\n",
    "\n",
    "from helpers.file_system_utils import *\n",
    "from helpers.image_utils import *\n",
    "\n",
    "def initialize_landmarker(model_path):\n",
    "    base_options = python.BaseOptions(model_asset_path=model_path)\n",
    "    options = vision.PoseLandmarkerOptions(base_options=base_options, output_segmentation_masks=True)\n",
    "    return vision.PoseLandmarker.create_from_options(options)\n",
    "\n",
    "def populate_pose_data_with_landmarks(pose_info, landmarks):\n",
    "    for idx, landmark in enumerate(landmarks):\n",
    "        idx_str = str(idx).zfill(2)\n",
    "        pose_info[f'landmark_{idx_str}_x'] = landmark.x\n",
    "        pose_info[f'landmark_{idx_str}_y'] = landmark.y\n",
    "        pose_info[f'landmark_{idx_str}_z'] = landmark.z\n",
    "        pose_info[f'landmark_{idx_str}_v'] = landmark.visibility\n",
    "        \n",
    "def generate_pose_landmark_dictionary(source_dir, model_path, is_video=False):\n",
    "    annotated_dir = create_annotated_directory(source_dir)\n",
    "    filenames = get_image_filenames(source_dir)\n",
    "    landmarker = initialize_landmarker(model_path)\n",
    "\n",
    "    if is_video:\n",
    "        pose_data, errors = batch_process_video_images(annotated_dir, filenames, landmarker)\n",
    "    else:\n",
    "        pose_data, errors = batch_process_static_images(annotated_dir, filenames, landmarker)\n",
    "    \n",
    "    pose_data_df = pd.DataFrame(pose_data)\n",
    "    pose_data_df.to_csv(f'{source_dir}/pose_data.csv', index=False)\n",
    "    \n",
    "    errors = write_error_log(source_dir, errors)\n",
    "    \n",
    "    return print(annotated_dir)\n",
    "\n",
    "def batch_process_video_images(annotated_dir, filenames, landmarker):\n",
    "    pose_data = []\n",
    "    errors = []\n",
    "\n",
    "    for image_file_path in sorted(filenames):\n",
    "        \n",
    "        image_bgr = cv2.imread(image_file_path, cv2.IMREAD_COLOR)\n",
    "        image_rgb = cv2.cvtColor(image_bgr, cv2.COLOR_BGR2RGB)\n",
    "        mp_image = mp.Image(image_format=mp.ImageFormat.SRGB, data=image_rgb)\n",
    "\n",
    "        image_filename, second, frame_no = parse_video_filename(image_file_path)\n",
    "        detection_result = landmarker.detect(mp_image)\n",
    "\n",
    "        if detection_result.pose_landmarks:\n",
    "            annotate_and_save_image(annotated_dir, image_filename, detection_result, image_rgb, scale=0.4)\n",
    "            \n",
    "            for landmarks in detection_result.pose_landmarks:\n",
    "                pose_info = {\n",
    "                    'image_filename': image_filename,\n",
    "                    'secs': second,\n",
    "                    'frame_no': frame_no\n",
    "                }\n",
    "                populate_pose_data_with_landmarks(pose_info, landmarks)\n",
    "            pose_data.append(pose_info)\n",
    "        else:\n",
    "            errors.append(image_file_path)\n",
    "    \n",
    "    return pose_data, errors\n",
    "\n",
    "def batch_process_static_images(annotated_dir, filenames, landmarker):\n",
    "    \n",
    "    pose_data = []\n",
    "    errors = []\n",
    "\n",
    "    for image_file_path in sorted(filenames):\n",
    "        \n",
    "        image_bgr = cv2.imread(image_file_path, cv2.IMREAD_COLOR)\n",
    "        image_rgb = cv2.cvtColor(image_bgr, cv2.COLOR_BGR2RGB)\n",
    "        mp_image = mp.Image(image_format=mp.ImageFormat.SRGB, data=image_rgb)\n",
    "\n",
    "        image_filename = os.path.basename(image_file_path)        \n",
    "        pose_name = image_filename.split('.')[0]\n",
    "        \n",
    "        detection_result = landmarker.detect(mp_image)\n",
    "        \n",
    "        if detection_result.pose_landmarks:\n",
    "            annotate_and_save_image(annotated_dir, image_filename, detection_result, image_rgb, scale=1)\n",
    "            \n",
    "            for landmarks in detection_result.pose_landmarks:\n",
    "                pose_info = {\n",
    "                    'image_filename': image_filename,\n",
    "                    'pose_name': pose_name\n",
    "                }\n",
    "                populate_pose_data_with_landmarks(pose_info, landmarks)\n",
    "            pose_data.append(pose_info)\n",
    "        else:\n",
    "            errors.append(image_file_path)\n",
    "    \n",
    "    return pose_data, errors"
   ]
  },
  {
   "cell_type": "markdown",
   "id": "80dcb739-3112-483b-bf83-35ff415e6665",
   "metadata": {},
   "source": [
    "# Example Usage"
   ]
  },
  {
   "cell_type": "code",
   "execution_count": 12,
   "id": "b2ec480f-41cb-4e5d-8312-1812fa00f9fc",
   "metadata": {},
   "outputs": [],
   "source": [
    "model_path = 'models/ml/pose_landmarker.task'"
   ]
  },
  {
   "cell_type": "markdown",
   "id": "de58c92d-c1c4-49a7-aa7f-26bd41be3879",
   "metadata": {},
   "source": [
    "### Video Processing"
   ]
  },
  {
   "cell_type": "code",
   "execution_count": 15,
   "id": "da0d9165-b306-46ef-b5f1-3cd29af8b874",
   "metadata": {},
   "outputs": [
    {
     "name": "stdout",
     "output_type": "stream",
     "text": [
      "Processed 220 frames from the video.\n",
      "data/ground_truth/processed/combined/annotated\n"
     ]
    }
   ],
   "source": [
    "input_video_path = 'data/ground_truth/uploads/combined.mp4'\n",
    "output_dir = 'data/ground_truth/processed/combined/'\n",
    "\n",
    "# 1.1 Video to Image Decomposition\n",
    "decompose_video_to_frames(input_video_path, output_dir)\n",
    "\n",
    "# 1.2 Pose Landmark Extraction\n",
    "generate_pose_landmark_dictionary(source_dir=output_dir,model_path=model_path,is_video=True)"
   ]
  },
  {
   "cell_type": "markdown",
   "id": "621bf64e-5b29-48cf-a9ec-257ebb7d53e9",
   "metadata": {},
   "source": [
    "### Pose Landmark Extract for Static Images"
   ]
  },
  {
   "cell_type": "code",
   "execution_count": 5,
   "id": "057952cb-c87c-41c7-9c0e-aaf875740732",
   "metadata": {},
   "outputs": [
    {
     "name": "stdout",
     "output_type": "stream",
     "text": [
      "data/external/positions/body/annotated\n",
      "data/external/positions/legs/annotated\n",
      "data/external/positions/grips/annotated\n"
     ]
    }
   ],
   "source": [
    "dict_source_dir = 'data/external/positions/body/'\n",
    "generate_pose_landmark_dictionary(source_dir=dict_source_dir,model_path=model_path,is_video=False)\n",
    "\n",
    "dict_source_dir = 'data/external/positions/legs/'\n",
    "generate_pose_landmark_dictionary(source_dir=dict_source_dir,model_path=model_path,is_video=False)\n",
    "\n",
    "dict_source_dir = 'data/external/positions/grips/'\n",
    "generate_pose_landmark_dictionary(source_dir=dict_source_dir,model_path=model_path,is_video=False)"
   ]
  }
 ],
 "metadata": {
  "kernelspec": {
   "display_name": "Python 3 (ipykernel)",
   "language": "python",
   "name": "python3"
  },
  "language_info": {
   "codemirror_mode": {
    "name": "ipython",
    "version": 3
   },
   "file_extension": ".py",
   "mimetype": "text/x-python",
   "name": "python",
   "nbconvert_exporter": "python",
   "pygments_lexer": "ipython3",
   "version": "3.11.6"
  }
 },
 "nbformat": 4,
 "nbformat_minor": 5
}
