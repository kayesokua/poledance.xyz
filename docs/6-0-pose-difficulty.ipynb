{
 "cells": [
  {
   "cell_type": "markdown",
   "id": "f6ebb4f6-02fc-4ee2-bebb-ec8449db3a06",
   "metadata": {},
   "source": [
    "# 6.0 Pose Difficulty (Drafted)\n",
    "\n",
    "Based on academic insights, pole dancing skill levels can be categorized as follows:\n",
    "\n",
    "1. Beginner: Skills are typically performed in an upright or horizontal posture, keeping the body's center of mass (COM) close to the pole.\n",
    "2. Intermediate: Skills at this level often involve inversions, such as crucifix, laybacks, and leg hangs, where the performer is upside-down.\n",
    "3. Advanced: This stage includes inverted upper body skills, requiring the performer to hold on with their arms while upside-down, and moving the COM away from the pole. Examples include static V, extended butterfly, and shoulder mount.\n",
    "4. Elite: At the elite level, skills demand extreme flexibility and/or entail moving the COM further from the pole. Notable examples are iron X, deadlift, spatchcock, and Russian or Oona split.\n",
    "\n",
    "These insights are applied as follows:\n",
    "\n",
    "1. Beginner: Identified when the position is either upright or horizontal.\n",
    "2. Intermediate: Determined when the position is inverted.\n",
    "3. Advanced: Assessed based on grip and estimated center of mass relative to the pole's vertical line.\n",
    "4. Elite: Recognized when the position is advanced and necessitates significant flexibility."
   ]
  },
  {
   "cell_type": "code",
   "execution_count": null,
   "id": "036e9ffc-478c-4bc9-8fa1-74f3204c515b",
   "metadata": {},
   "outputs": [],
   "source": [
    "class PoseDifficultyClassifier:\n",
    "    def __init__(self, data):\n",
    "        self.data = data\n",
    "        self.data['pos_difficulty'] = self.data.apply(self.get_pose_difficulty, axis=1)\n",
    "\n",
    "    def get_pose_difficulty(row):\n",
    "        # check pos_body\n",
    "        # chekc pos_grip\n",
    "        return random.choice(['beginner','intermediate','advanced','elite','unknown'])\n",
    "\n",
    "    def calculate_center_of_mass(landmarks, total_weight):\n",
    "        weight_proportions = {\n",
    "            'head': 7,\n",
    "            'upper_limb': 5,\n",
    "            'torso': 50,\n",
    "            #....\n",
    "        }\n",
    "\n",
    "        weighted_positions = {'x': 0, 'y': 0, 'z': 0}\n",
    "        total_weight_proportion = 0\n",
    "    \n",
    "        for part, landmark in landmarks.items():\n",
    "            part_weight = total_weight * (weight_proportions[part] / 100)\n",
    "            weighted_positions['x'] += landmark.x * part_weight\n",
    "            weighted_positions['y'] += landmark.y * part_weight\n",
    "            weighted_positions['z'] += landmark.z * part_weight\n",
    "            total_weight_proportion += part_weight\n",
    "    \n",
    "        com_x = weighted_positions['x'] / total_weight_proportion\n",
    "        com_y = weighted_positions['y'] / total_weight_proportion\n",
    "        com_z = weighted_positions['z'] / total_weight_proportion\n",
    "    \n",
    "        return com_x, com_y, com_z"
   ]
  }
 ],
 "metadata": {
  "kernelspec": {
   "display_name": "Python 3 (ipykernel)",
   "language": "python",
   "name": "python3"
  },
  "language_info": {
   "codemirror_mode": {
    "name": "ipython",
    "version": 3
   },
   "file_extension": ".py",
   "mimetype": "text/x-python",
   "name": "python",
   "nbconvert_exporter": "python",
   "pygments_lexer": "ipython3",
   "version": "3.11.6"
  }
 },
 "nbformat": 4,
 "nbformat_minor": 5
}
