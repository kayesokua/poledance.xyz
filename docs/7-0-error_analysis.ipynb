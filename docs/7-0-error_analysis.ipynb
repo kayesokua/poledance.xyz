{
 "cells": [
  {
   "cell_type": "markdown",
   "id": "d28cdb51-b102-45e8-bb8f-659407a0c44c",
   "metadata": {},
   "source": [
    "# Error Analysis\n",
    "\n",
    "## Setup"
   ]
  },
  {
   "cell_type": "code",
   "execution_count": 6,
   "id": "3685807c-f9a0-4e4e-956b-9dc8822f8eba",
   "metadata": {},
   "outputs": [
    {
     "data": {
      "text/html": [
       "<div>\n",
       "<style scoped>\n",
       "    .dataframe tbody tr th:only-of-type {\n",
       "        vertical-align: middle;\n",
       "    }\n",
       "\n",
       "    .dataframe tbody tr th {\n",
       "        vertical-align: top;\n",
       "    }\n",
       "\n",
       "    .dataframe thead th {\n",
       "        text-align: right;\n",
       "    }\n",
       "</style>\n",
       "<table border=\"1\" class=\"dataframe\">\n",
       "  <thead>\n",
       "    <tr style=\"text-align: right;\">\n",
       "      <th></th>\n",
       "      <th>title</th>\n",
       "      <th>frames_processed</th>\n",
       "      <th>frames_error</th>\n",
       "      <th>error_rate</th>\n",
       "    </tr>\n",
       "  </thead>\n",
       "  <tbody>\n",
       "    <tr>\n",
       "      <th>0</th>\n",
       "      <td>Static Pole</td>\n",
       "      <td>37</td>\n",
       "      <td>1</td>\n",
       "      <td>0.027027</td>\n",
       "    </tr>\n",
       "    <tr>\n",
       "      <th>1</th>\n",
       "      <td>All Inversion</td>\n",
       "      <td>71</td>\n",
       "      <td>20</td>\n",
       "      <td>0.281690</td>\n",
       "    </tr>\n",
       "    <tr>\n",
       "      <th>2</th>\n",
       "      <td>Horizontal</td>\n",
       "      <td>42</td>\n",
       "      <td>1</td>\n",
       "      <td>0.023810</td>\n",
       "    </tr>\n",
       "    <tr>\n",
       "      <th>3</th>\n",
       "      <td>Low Flow</td>\n",
       "      <td>96</td>\n",
       "      <td>0</td>\n",
       "      <td>0.000000</td>\n",
       "    </tr>\n",
       "    <tr>\n",
       "      <th>4</th>\n",
       "      <td>Kick split</td>\n",
       "      <td>55</td>\n",
       "      <td>0</td>\n",
       "      <td>0.000000</td>\n",
       "    </tr>\n",
       "    <tr>\n",
       "      <th>5</th>\n",
       "      <td>Upright</td>\n",
       "      <td>49</td>\n",
       "      <td>11</td>\n",
       "      <td>0.224490</td>\n",
       "    </tr>\n",
       "    <tr>\n",
       "      <th>6</th>\n",
       "      <td>Body Waves</td>\n",
       "      <td>136</td>\n",
       "      <td>29</td>\n",
       "      <td>0.213235</td>\n",
       "    </tr>\n",
       "    <tr>\n",
       "      <th>7</th>\n",
       "      <td>intermediate spin</td>\n",
       "      <td>220</td>\n",
       "      <td>22</td>\n",
       "      <td>0.100000</td>\n",
       "    </tr>\n",
       "    <tr>\n",
       "      <th>8</th>\n",
       "      <td>2024.01.31 choreo</td>\n",
       "      <td>119</td>\n",
       "      <td>2</td>\n",
       "      <td>0.016807</td>\n",
       "    </tr>\n",
       "  </tbody>\n",
       "</table>\n",
       "</div>"
      ],
      "text/plain": [
       "               title  frames_processed  frames_error  error_rate\n",
       "0        Static Pole                37             1    0.027027\n",
       "1      All Inversion                71            20    0.281690\n",
       "2         Horizontal                42             1    0.023810\n",
       "3           Low Flow                96             0    0.000000\n",
       "4         Kick split                55             0    0.000000\n",
       "5            Upright                49            11    0.224490\n",
       "6         Body Waves               136            29    0.213235\n",
       "7  intermediate spin               220            22    0.100000\n",
       "8  2024.01.31 choreo               119             2    0.016807"
      ]
     },
     "execution_count": 6,
     "metadata": {},
     "output_type": "execute_result"
    }
   ],
   "source": [
    "import pandas as pd\n",
    "import numpy as np\n",
    "\n",
    "df = pd.read_csv('data/videos.csv')\n",
    "df['error_rate'] = df['frames_error'] / df['frames_processed']\n",
    "df[['title','frames_processed','frames_error','error_rate']]"
   ]
  },
  {
   "cell_type": "code",
   "execution_count": 7,
   "id": "ebb5a373-fa53-4cb4-973a-645aa5c76677",
   "metadata": {},
   "outputs": [
    {
     "name": "stdout",
     "output_type": "stream",
     "text": [
      "The average error rate is 0.09856205604519015\n"
     ]
    }
   ],
   "source": [
    "print(f\"The average error rate is {np.mean(df['error_rate'])}\")"
   ]
  },
  {
   "cell_type": "code",
   "execution_count": null,
   "id": "11c3a1e9-234b-4f84-aee4-dd227ed966be",
   "metadata": {},
   "outputs": [],
   "source": []
  }
 ],
 "metadata": {
  "kernelspec": {
   "display_name": "Python 3 (ipykernel)",
   "language": "python",
   "name": "python3"
  },
  "language_info": {
   "codemirror_mode": {
    "name": "ipython",
    "version": 3
   },
   "file_extension": ".py",
   "mimetype": "text/x-python",
   "name": "python",
   "nbconvert_exporter": "python",
   "pygments_lexer": "ipython3",
   "version": "3.11.6"
  }
 },
 "nbformat": 4,
 "nbformat_minor": 5
}
