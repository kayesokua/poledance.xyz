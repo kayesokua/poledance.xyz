{
 "cells": [
  {
   "cell_type": "markdown",
   "id": "739a3bb2-3253-415b-9b55-e3449647d699",
   "metadata": {},
   "source": [
    "# 4.0 Pose Sequence Analysis\n",
    "\n",
    "`PoseSequenceAnalysis` class would be designed to analyze sequential changes in various pose aspects, such as face position, body position, and others. \n",
    "\n",
    "1. `get_total_spin_count()`: This method counts the number of times the face position changes from front to back or back to front, considering a change valid only if it's repeated in two consecutive instances.\n",
    "2. `get_total_inversions()`: This method calculates the number of times the body position shifts from upright/horizontal to inverted, with similar logic to validate the change.\n",
    "\n",
    "(To be continued)"
   ]
  },
  {
   "cell_type": "code",
   "execution_count": 24,
   "id": "036e9ffc-478c-4bc9-8fa1-74f3204c515b",
   "metadata": {},
   "outputs": [],
   "source": [
    "import pandas as pd\n",
    "import numpy as np\n",
    "\n",
    "class PoseSequenceAnalysis:\n",
    "    def __init__(self, data):\n",
    "        self.data = data\n",
    "        self.spin_count = self.get_total_spin_count()\n",
    "        self.invert_count = self.get_total_inversions()\n",
    "\n",
    "    def get_total_spin_count(self):\n",
    "        spin_count = 0\n",
    "        faces = self.data['pos_face'].tolist()\n",
    "    \n",
    "        for i in range(2, len(faces)):\n",
    "            if faces[i] != faces[i - 2] and faces[i] == faces[i - 1]:\n",
    "                spin_count += 1\n",
    "\n",
    "        return spin_count\n",
    "        \n",
    "    def get_total_inversions(self):\n",
    "        inversion_count = 0\n",
    "        bodies = self.data['pos_body'].tolist()\n",
    "        \n",
    "        for i in range(3, len(bodies)):\n",
    "            if bodies[i] == 'inverted' and bodies[i - 1] != 'inverted' and bodies[i + 1] != 'inverted':\n",
    "                inversion_count += 1\n",
    "        return inversion_count\n",
    "        "
   ]
  },
  {
   "cell_type": "code",
   "execution_count": 25,
   "id": "d337d169-7bc0-4f96-97f4-0ae5b4fb1f5d",
   "metadata": {},
   "outputs": [
    {
     "name": "stdout",
     "output_type": "stream",
     "text": [
      "Total Spin Counts: 5\n",
      "Total Invert Counts: 0\n"
     ]
    }
   ],
   "source": [
    "data = pd.read_csv('data/ground_truth/processed/upright/pose_data.csv')\n",
    "results = PoseSequenceAnalysis(data)\n",
    "\n",
    "print(\"Total Spin Counts:\", results.spin_count)\n",
    "print(\"Total Invert Counts:\", results.invert_count)"
   ]
  },
  {
   "cell_type": "code",
   "execution_count": 26,
   "id": "a3c60cf5-6de3-4322-88bc-de02357d4625",
   "metadata": {},
   "outputs": [
    {
     "name": "stdout",
     "output_type": "stream",
     "text": [
      "Total Spin Counts: 29\n",
      "Total Invert Counts: 9\n"
     ]
    }
   ],
   "source": [
    "data = pd.read_csv('data/ground_truth/processed/combined/pose_data.csv')\n",
    "results = PoseSequenceAnalysis(data)\n",
    "\n",
    "print(\"Total Spin Counts:\", results.spin_count)\n",
    "print(\"Total Invert Counts:\", results.invert_count)"
   ]
  }
 ],
 "metadata": {
  "kernelspec": {
   "display_name": "Python 3 (ipykernel)",
   "language": "python",
   "name": "python3"
  },
  "language_info": {
   "codemirror_mode": {
    "name": "ipython",
    "version": 3
   },
   "file_extension": ".py",
   "mimetype": "text/x-python",
   "name": "python",
   "nbconvert_exporter": "python",
   "pygments_lexer": "ipython3",
   "version": "3.11.6"
  }
 },
 "nbformat": 4,
 "nbformat_minor": 5
}
